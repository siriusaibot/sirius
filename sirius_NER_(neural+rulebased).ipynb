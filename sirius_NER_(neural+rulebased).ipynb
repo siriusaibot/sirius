{
  "nbformat": 4,
  "nbformat_minor": 0,
  "metadata": {
    "colab": {
      "name": "sirius NER (neural+rulebased).ipynb",
      "provenance": [],
      "collapsed_sections": []
    },
    "kernelspec": {
      "name": "python3",
      "display_name": "Python 3",
      "language": "python"
    },
    "widgets": {
      "application/vnd.jupyter.widget-state+json": {
        "96723c283f54426591e8bd0cedaae516": {
          "model_module": "@jupyter-widgets/controls",
          "model_name": "RadioButtonsModel",
          "state": {
            "_options_labels": [
              "آب و هوا",
              "اوقات شرعی",
              "ساعت",
              "تقویم"
            ],
            "_view_name": "RadioButtonsView",
            "style": "IPY_MODEL_11858f9db9754cdcac792fd6b18335a4",
            "_dom_classes": [],
            "description": "Select your model",
            "_model_name": "RadioButtonsModel",
            "index": 0,
            "_view_module": "@jupyter-widgets/controls",
            "_model_module_version": "1.5.0",
            "_view_count": null,
            "disabled": false,
            "_view_module_version": "1.5.0",
            "description_tooltip": null,
            "_model_module": "@jupyter-widgets/controls",
            "layout": "IPY_MODEL_9f36a46a2369413192493cd8a0f8b8b8"
          }
        },
        "11858f9db9754cdcac792fd6b18335a4": {
          "model_module": "@jupyter-widgets/controls",
          "model_name": "DescriptionStyleModel",
          "state": {
            "_view_name": "StyleView",
            "_model_name": "DescriptionStyleModel",
            "description_width": "",
            "_view_module": "@jupyter-widgets/base",
            "_model_module_version": "1.5.0",
            "_view_count": null,
            "_view_module_version": "1.2.0",
            "_model_module": "@jupyter-widgets/controls"
          }
        },
        "9f36a46a2369413192493cd8a0f8b8b8": {
          "model_module": "@jupyter-widgets/base",
          "model_name": "LayoutModel",
          "state": {
            "_view_name": "LayoutView",
            "grid_template_rows": null,
            "right": null,
            "justify_content": null,
            "_view_module": "@jupyter-widgets/base",
            "overflow": null,
            "_model_module_version": "1.2.0",
            "_view_count": null,
            "flex_flow": null,
            "width": null,
            "min_width": null,
            "border": null,
            "align_items": null,
            "bottom": null,
            "_model_module": "@jupyter-widgets/base",
            "top": null,
            "grid_column": null,
            "overflow_y": null,
            "overflow_x": null,
            "grid_auto_flow": null,
            "grid_area": null,
            "grid_template_columns": null,
            "flex": null,
            "_model_name": "LayoutModel",
            "justify_items": null,
            "grid_row": null,
            "max_height": null,
            "align_content": null,
            "visibility": null,
            "align_self": null,
            "height": null,
            "min_height": null,
            "padding": null,
            "grid_auto_rows": null,
            "grid_gap": null,
            "max_width": null,
            "order": null,
            "_view_module_version": "1.2.0",
            "grid_template_areas": null,
            "object_position": null,
            "object_fit": null,
            "grid_auto_columns": null,
            "margin": null,
            "display": null,
            "left": null
          }
        },
        "f2c4a097f4424bd9a732cf88e1366f6b": {
          "model_module": "@jupyter-widgets/controls",
          "model_name": "TextareaModel",
          "state": {
            "_view_name": "TextareaView",
            "style": "IPY_MODEL_01965045d1834347a578ad2537898d02",
            "rows": 5,
            "_dom_classes": [],
            "description": "",
            "_model_name": "TextareaModel",
            "placeholder": "Please enter you text ...",
            "_view_module": "@jupyter-widgets/controls",
            "_model_module_version": "1.5.0",
            "value": "",
            "_view_count": null,
            "disabled": false,
            "_view_module_version": "1.5.0",
            "continuous_update": true,
            "description_tooltip": null,
            "_model_module": "@jupyter-widgets/controls",
            "layout": "IPY_MODEL_74361c20bb2d49379de80dd052a87200"
          }
        },
        "01965045d1834347a578ad2537898d02": {
          "model_module": "@jupyter-widgets/controls",
          "model_name": "DescriptionStyleModel",
          "state": {
            "_view_name": "StyleView",
            "_model_name": "DescriptionStyleModel",
            "description_width": "",
            "_view_module": "@jupyter-widgets/base",
            "_model_module_version": "1.5.0",
            "_view_count": null,
            "_view_module_version": "1.2.0",
            "_model_module": "@jupyter-widgets/controls"
          }
        },
        "74361c20bb2d49379de80dd052a87200": {
          "model_module": "@jupyter-widgets/base",
          "model_name": "LayoutModel",
          "state": {
            "_view_name": "LayoutView",
            "grid_template_rows": null,
            "right": null,
            "justify_content": null,
            "_view_module": "@jupyter-widgets/base",
            "overflow": null,
            "_model_module_version": "1.2.0",
            "_view_count": null,
            "flex_flow": null,
            "width": "90%",
            "min_width": null,
            "border": null,
            "align_items": null,
            "bottom": null,
            "_model_module": "@jupyter-widgets/base",
            "top": null,
            "grid_column": null,
            "overflow_y": null,
            "overflow_x": null,
            "grid_auto_flow": null,
            "grid_area": null,
            "grid_template_columns": null,
            "flex": null,
            "_model_name": "LayoutModel",
            "justify_items": null,
            "grid_row": null,
            "max_height": null,
            "align_content": null,
            "visibility": null,
            "align_self": null,
            "height": null,
            "min_height": null,
            "padding": null,
            "grid_auto_rows": null,
            "grid_gap": null,
            "max_width": null,
            "order": null,
            "_view_module_version": "1.2.0",
            "grid_template_areas": null,
            "object_position": null,
            "object_fit": null,
            "grid_auto_columns": null,
            "margin": null,
            "display": null,
            "left": null
          }
        },
        "2b9d5002e9874102b7fe737e5cd31acd": {
          "model_module": "@jupyter-widgets/controls",
          "model_name": "ButtonModel",
          "state": {
            "_view_name": "ButtonView",
            "style": "IPY_MODEL_22ac3bab9cf04940bc6c2d7ffe25a91b",
            "_dom_classes": [],
            "description": "Send",
            "_model_name": "ButtonModel",
            "button_style": "success",
            "_view_module": "@jupyter-widgets/controls",
            "_model_module_version": "1.5.0",
            "tooltip": "Submit",
            "_view_count": null,
            "disabled": false,
            "_view_module_version": "1.5.0",
            "layout": "IPY_MODEL_51aa323f5fb94b4b9efe6c97a04fa213",
            "_model_module": "@jupyter-widgets/controls",
            "icon": ""
          }
        },
        "22ac3bab9cf04940bc6c2d7ffe25a91b": {
          "model_module": "@jupyter-widgets/controls",
          "model_name": "ButtonStyleModel",
          "state": {
            "_view_name": "StyleView",
            "_model_name": "ButtonStyleModel",
            "_view_module": "@jupyter-widgets/base",
            "_model_module_version": "1.5.0",
            "_view_count": null,
            "button_color": null,
            "font_weight": "",
            "_view_module_version": "1.2.0",
            "_model_module": "@jupyter-widgets/controls"
          }
        },
        "51aa323f5fb94b4b9efe6c97a04fa213": {
          "model_module": "@jupyter-widgets/base",
          "model_name": "LayoutModel",
          "state": {
            "_view_name": "LayoutView",
            "grid_template_rows": null,
            "right": null,
            "justify_content": null,
            "_view_module": "@jupyter-widgets/base",
            "overflow": null,
            "_model_module_version": "1.2.0",
            "_view_count": null,
            "flex_flow": null,
            "width": null,
            "min_width": null,
            "border": null,
            "align_items": null,
            "bottom": null,
            "_model_module": "@jupyter-widgets/base",
            "top": null,
            "grid_column": null,
            "overflow_y": null,
            "overflow_x": null,
            "grid_auto_flow": null,
            "grid_area": null,
            "grid_template_columns": null,
            "flex": null,
            "_model_name": "LayoutModel",
            "justify_items": null,
            "grid_row": null,
            "max_height": null,
            "align_content": null,
            "visibility": null,
            "align_self": null,
            "height": null,
            "min_height": null,
            "padding": null,
            "grid_auto_rows": null,
            "grid_gap": null,
            "max_width": null,
            "order": null,
            "_view_module_version": "1.2.0",
            "grid_template_areas": null,
            "object_position": null,
            "object_fit": null,
            "grid_auto_columns": null,
            "margin": null,
            "display": null,
            "left": null
          }
        },
        "26eab1489bd34f32b7e7fb945d4ed0d5": {
          "model_module": "@jupyter-widgets/output",
          "model_name": "OutputModel",
          "state": {
            "_view_name": "OutputView",
            "msg_id": "",
            "_dom_classes": [],
            "_model_name": "OutputModel",
            "outputs": [],
            "_view_module": "@jupyter-widgets/output",
            "_model_module_version": "1.0.0",
            "_view_count": null,
            "_view_module_version": "1.0.0",
            "layout": "IPY_MODEL_6f07ccb8102d4750b783ec01b31aa9aa",
            "_model_module": "@jupyter-widgets/output"
          }
        },
        "6f07ccb8102d4750b783ec01b31aa9aa": {
          "model_module": "@jupyter-widgets/base",
          "model_name": "LayoutModel",
          "state": {
            "_view_name": "LayoutView",
            "grid_template_rows": null,
            "right": null,
            "justify_content": null,
            "_view_module": "@jupyter-widgets/base",
            "overflow": null,
            "_model_module_version": "1.2.0",
            "_view_count": null,
            "flex_flow": null,
            "width": null,
            "min_width": null,
            "border": null,
            "align_items": null,
            "bottom": null,
            "_model_module": "@jupyter-widgets/base",
            "top": null,
            "grid_column": null,
            "overflow_y": null,
            "overflow_x": null,
            "grid_auto_flow": null,
            "grid_area": null,
            "grid_template_columns": null,
            "flex": null,
            "_model_name": "LayoutModel",
            "justify_items": null,
            "grid_row": null,
            "max_height": null,
            "align_content": null,
            "visibility": null,
            "align_self": null,
            "height": null,
            "min_height": null,
            "padding": null,
            "grid_auto_rows": null,
            "grid_gap": null,
            "max_width": null,
            "order": null,
            "_view_module_version": "1.2.0",
            "grid_template_areas": null,
            "object_position": null,
            "object_fit": null,
            "grid_auto_columns": null,
            "margin": null,
            "display": null,
            "left": null
          }
        }
      }
    },
    "accelerator": "GPU"
  },
  "cells": [
    {
      "cell_type": "code",
      "metadata": {
        "id": "iDicmyYNBfnE"
      },
      "source": [
        "from __future__ import absolute_import, division, print_function, unicode_literals\n",
        "\n",
        "try:\n",
        "    # %tensorflow_version only exists in Colab.\n",
        "    %tensorflow_version 2.x\n",
        "except Exception:\n",
        "    pass\n",
        "\n",
        "import tensorflow as tf"
      ],
      "execution_count": 2,
      "outputs": []
    },
    {
      "cell_type": "code",
      "metadata": {
        "id": "6sYyZvLmCYQu"
      },
      "source": [
        "!pip install -q transformers\n",
        "!pip install -qU hazm"
      ],
      "execution_count": null,
      "outputs": []
    },
    {
      "cell_type": "code",
      "metadata": {
        "id": "3jDe1hQhCY2s",
        "colab": {
          "base_uri": "https://localhost:8080/"
        },
        "outputId": "47f63bf5-aabc-43af-b944-0e0bf530615a"
      },
      "source": [
        "import math\n",
        "import numpy as np\n",
        "import pandas as pd\n",
        "\n",
        "import hazm\n",
        "\n",
        "import transformers \n",
        "from transformers import AutoTokenizer, AutoConfig\n",
        "from transformers import TFAutoModelForTokenClassification\n",
        "\n",
        "import os\n",
        "from IPython.display import display, HTML, clear_output\n",
        "from ipywidgets import widgets, Layout\n",
        "\n",
        "import matplotlib.pyplot as plt\n",
        "\n",
        "print()\n",
        "print('tensorflow', tf.__version__)\n",
        "print('transformers', transformers.__version__)\n",
        "print('numpy', np.__version__)\n",
        "print('pandas', pd.__version__)\n",
        "print()\n",
        "\n",
        "if tf.test.gpu_device_name() != '/device:GPU:0':\n",
        "    print()\n",
        "    print('WARNING: GPU device not found.')\n",
        "else:\n",
        "    print()\n",
        "    print('SUCCESS: Found GPU: {}'.format(tf.test.gpu_device_name()))"
      ],
      "execution_count": 4,
      "outputs": [
        {
          "output_type": "stream",
          "text": [
            "\n",
            "tensorflow 2.3.0\n",
            "transformers 4.0.1\n",
            "numpy 1.18.5\n",
            "pandas 1.1.5\n",
            "\n",
            "\n",
            "SUCCESS: Found GPU: /device:GPU:0\n"
          ],
          "name": "stdout"
        }
      ]
    },
    {
      "cell_type": "markdown",
      "metadata": {
        "id": "QAsnTqSPEaJ9"
      },
      "source": [
        "# Setup Neural Based Clasifier"
      ]
    },
    {
      "cell_type": "code",
      "metadata": {
        "id": "4uMVXKVkGeOZ"
      },
      "source": [
        "normalizer = hazm.Normalizer()\n",
        "\n",
        "\n",
        "def cleanize(text):\n",
        "    \"\"\"A way to normalize and even clean the text\"\"\"\n",
        "    # clean text\n",
        "    # do some fns\n",
        "    return normalizer.normalize(text)\n",
        "\n",
        "def colorize(text, classes, colors):\n",
        "    color = sum(classes.reshape((len(colors),1))*colors)\n",
        "    color = [str(_) for _ in color]\n",
        "    return f'<span style=\"background-color: rgb({color[0]}, {color[1]}, {color[2]})\">{text}</span>'\n",
        "\n",
        "def parsbert_ner_load_model(model_name):\n",
        "    \"\"\"Load the model\"\"\"\n",
        "    try:\n",
        "        config = AutoConfig.from_pretrained(model_name)\n",
        "        tokenizer = AutoTokenizer.from_pretrained(model_name)\n",
        "        model = TFAutoModelForTokenClassification.from_pretrained(model_name)\n",
        "        labels = list(config.label2id.keys())\n",
        "\n",
        "        return model, tokenizer, labels\n",
        "    except:\n",
        "        return [None] * 3\n",
        "\n",
        "def parsbert_ner(texts, utils, visualize=False, mode=None):\n",
        "    model, tokenizer, labels = utils\n",
        "\n",
        "    if not model or not tokenizer or not labels:\n",
        "        return 'Something wrong happened!'\n",
        "    \n",
        "    output_predictions = []\n",
        "    for sequence in texts:\n",
        "        sequence = cleanize(sequence)\n",
        "        tokens = tokenizer.tokenize(tokenizer.decode(tokenizer.encode(sequence)))\n",
        "        inputs = tokenizer.encode(sequence, return_tensors=\"tf\")\n",
        "        outputs = model(inputs)[0]\n",
        "        \n",
        "        if not visualize:\n",
        "            pass\n",
        "        else:\n",
        "            display(HTML(\"<hr>\"))\n",
        "            O=outputs[:,:,14][0]-4\n",
        "\n",
        "            B_DAT=outputs[:,:,0][0]\n",
        "            I_DAT=outputs[:,:,7][0]\n",
        "            B_TIM=outputs[:,:,6][0]\n",
        "            I_TIM=outputs[:,:,13][0]\n",
        "\n",
        "            B_LOC=outputs[:,:,1][0]\n",
        "            I_LOC=outputs[:,:,8][0]\n",
        "            B_ORG=outputs[:,:,1][0]\n",
        "            I_ORG=outputs[:,:,8][0]\n",
        "\n",
        "            location = B_LOC + B_ORG + I_LOC + I_ORG\n",
        "            date_and_time = B_TIM + B_DAT + I_TIM + I_DAT\n",
        "\n",
        "            if mode == \"religous times\":\n",
        "                location *= 0\n",
        "            elif mode == \"clock\":\n",
        "                date_and_time *= 0\n",
        "            else:\n",
        "                location += 5\n",
        "                date_and_time += 3\n",
        "\n",
        "            if visualize > 1:\n",
        "                index=np.arange(len(tokens))\n",
        "                width=0.2\n",
        "\n",
        "                plt.figure(figsize=(15,5))\n",
        "\n",
        "                plt.bar(index, O, width, color=\"black\", label=\"None\")\n",
        "                plt.bar(index + width, date_and_time, width, color=\"blue\", label=\"Date And Time\")\n",
        "                plt.bar(index+2*width, location, width, color=\"green\", label=\"Location\")\n",
        "\n",
        "                plt.xticks(index+width*1.5, tokens)\n",
        "\n",
        "                plt.legend(loc=\"best\")\n",
        "                plt.show()\n",
        "\n",
        "            \n",
        "            colorized = []\n",
        "\n",
        "            for i, token in enumerate(tokens):\n",
        "                if token not in [\"[SEP]\", \"[CLS]\"]:\n",
        "                    classes = [O[i], location[i], date_and_time[i]]\n",
        "                    classes = np.exp(classes)/sum(np.exp(classes)) # softmax of classes\n",
        "\n",
        "                    colors = [(255,255,255), (0, 255, 0), (0, 0, 255)]\n",
        "\n",
        "                    colorized.append(colorize(token, classes, colors))\n",
        "\n",
        "            html = \" \".join(colorized)\n",
        "            html = \"<p style='direction: rtl; font-size: 20px;'>\" + html + \"</p>\"\n",
        "            display(HTML(html))\n",
        "\n",
        "    return output_predictions"
      ],
      "execution_count": 4,
      "outputs": []
    },
    {
      "cell_type": "markdown",
      "metadata": {
        "id": "c5U9hKXXEHNV"
      },
      "source": [
        "# Setup Rule-Based classifier"
      ]
    },
    {
      "cell_type": "code",
      "metadata": {
        "id": "YO_tPvQphl-o"
      },
      "source": [
        "model_name = 'HooshvareLab/bert-base-parsbert-peymaner-uncased'\n",
        "print(\"Loading model...\")\n",
        "utils = parsbert_ner_load_model(model_name)"
      ],
      "execution_count": null,
      "outputs": []
    },
    {
      "cell_type": "code",
      "metadata": {
        "id": "tMfkbr3HnVY1",
        "tags": []
      },
      "source": [
        "weather = [\n",
        "           \"دمای هوای مسکو در روز جمعه ۹ آبان چند درجه است؟\",\n",
        "           \" آب و هوای فردای تهران ساعت 18:35 چه طور است؟\",\n",
        "           \"فردا ساعت ۶ بعد از ظهر هوای شیراز چگونه است؟\",\n",
        "           \"آب و هوای فردای تهران چطور است؟\"\n",
        "           ]\n",
        "\n",
        "religous_times = [\n",
        "                  \"اذان ظهر مسکو با اذان مغرب چقدر تفاوت دارد؟\",\n",
        "                  \"فاصله ی اذان مغرب تهران و اذان صبح مشهد\",\n",
        "                  \"نیمه شب شرعی تورنتو چه زمانی است؟\",\n",
        "                  \"اذان ظهر به افق ساری چه وقت است؟\",\n",
        "                  \"اذان مغرب فردای قم چه ساعتی است؟\",\n",
        "                  \"اذان ظهر تهران چه موقعی است؟ \"\n",
        "                  ]\n",
        "clock = [\n",
        "         \"اختلاف ساعت تهران و مسکو چند ساعت است؟ \",\n",
        "         \"الان در نیویورک ساعت چند است؟ \",\n",
        "         \"در مونیخ چه زمانی از روز است؟\",\n",
        "         \"ساعت چند است؟ \"\n",
        "         ]\n",
        "\n",
        "calendar = [\n",
        "        \"تاریخ 05-02-2020 به قمری چه تاریخی است؟\",\n",
        "        \"چند روز تا روز جهانی دیابت مانده است؟\",\n",
        "        \"دوشنبه هفته ی بعد به تاریخی هجری؟\",\n",
        "        \"امروز به میلادی چه روزی است؟\",\n",
        "        \"تاریخ شمسی امروز چیست؟\",\n",
        "        \"مناسبت 27 رجب چیست؟\"\n",
        "        ]\n",
        "\n",
        "print(\"Predicting, please wait...   0-0\")\n",
        "_ = parsbert_ner(weather, utils, visualize=1)\n",
        "_ = parsbert_ner(clock, utils, visualize=1, mode=\"clock\")\n",
        "# _ = parsbert_ner(religous_times, utils, visualize=1)\n",
        "# _ = parsbert_ner(calendar, utils, visualize=1)\n"
      ],
      "execution_count": null,
      "outputs": []
    },
    {
      "cell_type": "markdown",
      "metadata": {
        "id": "fth6hzX5IG1h"
      },
      "source": [
        "# Persian PEYMA NER"
      ]
    },
    {
      "cell_type": "code",
      "metadata": {
        "id": "4j7y9qNKFqpO",
        "colab": {
          "base_uri": "https://localhost:8080/",
          "height": 232,
          "referenced_widgets": [
            "96723c283f54426591e8bd0cedaae516",
            "11858f9db9754cdcac792fd6b18335a4",
            "9f36a46a2369413192493cd8a0f8b8b8",
            "f2c4a097f4424bd9a732cf88e1366f6b",
            "01965045d1834347a578ad2537898d02",
            "74361c20bb2d49379de80dd052a87200",
            "2b9d5002e9874102b7fe737e5cd31acd",
            "22ac3bab9cf04940bc6c2d7ffe25a91b",
            "51aa323f5fb94b4b9efe6c97a04fa213",
            "26eab1489bd34f32b7e7fb945d4ed0d5",
            "6f07ccb8102d4750b783ec01b31aa9aa"
          ]
        },
        "outputId": "d490465d-affd-4dd7-b46d-f617a8597a0b"
      },
      "source": [
        "#@title Live Playground { display-mode: \"form\" }\n",
        "submit_wd = widgets.Button(description='Send', disabled=False, button_style='success', tooltip='Submit')\n",
        "text_wd = widgets.Textarea(placeholder='Please enter you text ...', rows=5, layout=Layout(width='90%'))\n",
        "output_wd = widgets.Output()\n",
        "config_wd = widgets.RadioButtons(options=[\"آب و هوا\", \"اوقات شرعی\", \"ساعت\", \"تقویم\"], description='Select your model', disabled=False)\n",
        "\n",
        "display(config_wd)\n",
        "display(text_wd)\n",
        "display(submit_wd)\n",
        "display(output_wd)\n",
        "\n",
        "configs = {\n",
        "    \"آب و هوا\": 'weather', \n",
        "    \"اوقات شرعی\": 'religous_times',\n",
        "    \"ساعت\": 'clock',\n",
        "    \"تقویم\": 'calendar' \n",
        "}\n",
        "\n",
        "def submit_text(sender):\n",
        "    with output_wd:\n",
        "        clear_output(wait=True)\n",
        "\n",
        "        text = text_wd.value\n",
        "        mode = configs[config_wd.value]\n",
        "\n",
        "        model_name = 'HooshvareLab/bert-base-parsbert-peymaner-uncased'\n",
        "        print(\"Please wait...   0-0\")\n",
        "        output = parsbert_ner([text], utils, visualize=1, mode=mode)\n",
        "\n",
        "\n",
        "submit_wd.on_click(submit_text)\n"
      ],
      "execution_count": 7,
      "outputs": [
        {
          "output_type": "display_data",
          "data": {
            "application/vnd.jupyter.widget-view+json": {
              "model_id": "96723c283f54426591e8bd0cedaae516",
              "version_minor": 0,
              "version_major": 2
            },
            "text/plain": [
              "RadioButtons(description='Select your model', options=('آب و هوا', 'اوقات شرعی', 'ساعت', 'تقویم'), value='آب و…"
            ]
          },
          "metadata": {
            "tags": []
          }
        },
        {
          "output_type": "display_data",
          "data": {
            "application/vnd.jupyter.widget-view+json": {
              "model_id": "f2c4a097f4424bd9a732cf88e1366f6b",
              "version_minor": 0,
              "version_major": 2
            },
            "text/plain": [
              "Textarea(value='', layout=Layout(width='90%'), placeholder='Please enter you text ...', rows=5)"
            ]
          },
          "metadata": {
            "tags": []
          }
        },
        {
          "output_type": "display_data",
          "data": {
            "application/vnd.jupyter.widget-view+json": {
              "model_id": "2b9d5002e9874102b7fe737e5cd31acd",
              "version_minor": 0,
              "version_major": 2
            },
            "text/plain": [
              "Button(button_style='success', description='Send', style=ButtonStyle(), tooltip='Submit')"
            ]
          },
          "metadata": {
            "tags": []
          }
        },
        {
          "output_type": "display_data",
          "data": {
            "application/vnd.jupyter.widget-view+json": {
              "model_id": "26eab1489bd34f32b7e7fb945d4ed0d5",
              "version_minor": 0,
              "version_major": 2
            },
            "text/plain": [
              "Output()"
            ]
          },
          "metadata": {
            "tags": []
          }
        }
      ]
    }
  ]
}