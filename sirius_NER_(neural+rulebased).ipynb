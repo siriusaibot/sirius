{
  "nbformat": 4,
  "nbformat_minor": 0,
  "metadata": {
    "colab": {
      "name": "sirius NER (neural+rulebased).ipynb",
      "provenance": [],
      "collapsed_sections": []
    },
    "kernelspec": {
      "name": "python3",
      "display_name": "Python 3",
      "language": "python"
    },
    "widgets": {
      "application/vnd.jupyter.widget-state+json": {
        "f9376bbf788c495e89a34514005df5d4": {
          "model_module": "@jupyter-widgets/controls",
          "model_name": "TextareaModel",
          "state": {
            "_view_name": "TextareaView",
            "style": "IPY_MODEL_824064c367634b8283673cd40b42b172",
            "rows": 5,
            "_dom_classes": [],
            "description": "",
            "_model_name": "TextareaModel",
            "placeholder": "Please enter you text ...",
            "_view_module": "@jupyter-widgets/controls",
            "_model_module_version": "1.5.0",
            "value": "",
            "_view_count": null,
            "disabled": false,
            "_view_module_version": "1.5.0",
            "continuous_update": true,
            "description_tooltip": null,
            "_model_module": "@jupyter-widgets/controls",
            "layout": "IPY_MODEL_f0d9718da6fe48dc84c244986a32c0cb"
          }
        },
        "824064c367634b8283673cd40b42b172": {
          "model_module": "@jupyter-widgets/controls",
          "model_name": "DescriptionStyleModel",
          "state": {
            "_view_name": "StyleView",
            "_model_name": "DescriptionStyleModel",
            "description_width": "",
            "_view_module": "@jupyter-widgets/base",
            "_model_module_version": "1.5.0",
            "_view_count": null,
            "_view_module_version": "1.2.0",
            "_model_module": "@jupyter-widgets/controls"
          }
        },
        "f0d9718da6fe48dc84c244986a32c0cb": {
          "model_module": "@jupyter-widgets/base",
          "model_name": "LayoutModel",
          "state": {
            "_view_name": "LayoutView",
            "grid_template_rows": null,
            "right": null,
            "justify_content": null,
            "_view_module": "@jupyter-widgets/base",
            "overflow": null,
            "_model_module_version": "1.2.0",
            "_view_count": null,
            "flex_flow": null,
            "width": "90%",
            "min_width": null,
            "border": null,
            "align_items": null,
            "bottom": null,
            "_model_module": "@jupyter-widgets/base",
            "top": null,
            "grid_column": null,
            "overflow_y": null,
            "overflow_x": null,
            "grid_auto_flow": null,
            "grid_area": null,
            "grid_template_columns": null,
            "flex": null,
            "_model_name": "LayoutModel",
            "justify_items": null,
            "grid_row": null,
            "max_height": null,
            "align_content": null,
            "visibility": null,
            "align_self": null,
            "height": null,
            "min_height": null,
            "padding": null,
            "grid_auto_rows": null,
            "grid_gap": null,
            "max_width": null,
            "order": null,
            "_view_module_version": "1.2.0",
            "grid_template_areas": null,
            "object_position": null,
            "object_fit": null,
            "grid_auto_columns": null,
            "margin": null,
            "display": null,
            "left": null
          }
        },
        "d5e8c89869994a78a3ea8600d773b33a": {
          "model_module": "@jupyter-widgets/controls",
          "model_name": "ButtonModel",
          "state": {
            "_view_name": "ButtonView",
            "style": "IPY_MODEL_fe376f750df647d48899fba74c69fb38",
            "_dom_classes": [],
            "description": "Send",
            "_model_name": "ButtonModel",
            "button_style": "success",
            "_view_module": "@jupyter-widgets/controls",
            "_model_module_version": "1.5.0",
            "tooltip": "Submit",
            "_view_count": null,
            "disabled": false,
            "_view_module_version": "1.5.0",
            "layout": "IPY_MODEL_9b3c8a69a08543e9a4e794dda8f6ca13",
            "_model_module": "@jupyter-widgets/controls",
            "icon": ""
          }
        },
        "fe376f750df647d48899fba74c69fb38": {
          "model_module": "@jupyter-widgets/controls",
          "model_name": "ButtonStyleModel",
          "state": {
            "_view_name": "StyleView",
            "_model_name": "ButtonStyleModel",
            "_view_module": "@jupyter-widgets/base",
            "_model_module_version": "1.5.0",
            "_view_count": null,
            "button_color": null,
            "font_weight": "",
            "_view_module_version": "1.2.0",
            "_model_module": "@jupyter-widgets/controls"
          }
        },
        "9b3c8a69a08543e9a4e794dda8f6ca13": {
          "model_module": "@jupyter-widgets/base",
          "model_name": "LayoutModel",
          "state": {
            "_view_name": "LayoutView",
            "grid_template_rows": null,
            "right": null,
            "justify_content": null,
            "_view_module": "@jupyter-widgets/base",
            "overflow": null,
            "_model_module_version": "1.2.0",
            "_view_count": null,
            "flex_flow": null,
            "width": null,
            "min_width": null,
            "border": null,
            "align_items": null,
            "bottom": null,
            "_model_module": "@jupyter-widgets/base",
            "top": null,
            "grid_column": null,
            "overflow_y": null,
            "overflow_x": null,
            "grid_auto_flow": null,
            "grid_area": null,
            "grid_template_columns": null,
            "flex": null,
            "_model_name": "LayoutModel",
            "justify_items": null,
            "grid_row": null,
            "max_height": null,
            "align_content": null,
            "visibility": null,
            "align_self": null,
            "height": null,
            "min_height": null,
            "padding": null,
            "grid_auto_rows": null,
            "grid_gap": null,
            "max_width": null,
            "order": null,
            "_view_module_version": "1.2.0",
            "grid_template_areas": null,
            "object_position": null,
            "object_fit": null,
            "grid_auto_columns": null,
            "margin": null,
            "display": null,
            "left": null
          }
        },
        "90d69413837d487a9fcf274200941a57": {
          "model_module": "@jupyter-widgets/output",
          "model_name": "OutputModel",
          "state": {
            "_view_name": "OutputView",
            "msg_id": "",
            "_dom_classes": [],
            "_model_name": "OutputModel",
            "outputs": [],
            "_view_module": "@jupyter-widgets/output",
            "_model_module_version": "1.0.0",
            "_view_count": null,
            "_view_module_version": "1.0.0",
            "layout": "IPY_MODEL_b5e2e9b675f7491399b427875b588a32",
            "_model_module": "@jupyter-widgets/output"
          }
        },
        "b5e2e9b675f7491399b427875b588a32": {
          "model_module": "@jupyter-widgets/base",
          "model_name": "LayoutModel",
          "state": {
            "_view_name": "LayoutView",
            "grid_template_rows": null,
            "right": null,
            "justify_content": null,
            "_view_module": "@jupyter-widgets/base",
            "overflow": null,
            "_model_module_version": "1.2.0",
            "_view_count": null,
            "flex_flow": null,
            "width": null,
            "min_width": null,
            "border": null,
            "align_items": null,
            "bottom": null,
            "_model_module": "@jupyter-widgets/base",
            "top": null,
            "grid_column": null,
            "overflow_y": null,
            "overflow_x": null,
            "grid_auto_flow": null,
            "grid_area": null,
            "grid_template_columns": null,
            "flex": null,
            "_model_name": "LayoutModel",
            "justify_items": null,
            "grid_row": null,
            "max_height": null,
            "align_content": null,
            "visibility": null,
            "align_self": null,
            "height": null,
            "min_height": null,
            "padding": null,
            "grid_auto_rows": null,
            "grid_gap": null,
            "max_width": null,
            "order": null,
            "_view_module_version": "1.2.0",
            "grid_template_areas": null,
            "object_position": null,
            "object_fit": null,
            "grid_auto_columns": null,
            "margin": null,
            "display": null,
            "left": null
          }
        }
      }
    }
  },
  "cells": [
    {
      "cell_type": "code",
      "metadata": {
        "id": "iDicmyYNBfnE"
      },
      "source": [
        "from __future__ import absolute_import, division, print_function, unicode_literals\n",
        "\n",
        "try:\n",
        "    # %tensorflow_version only exists in Colab.\n",
        "    %tensorflow_version 2.x\n",
        "except Exception:\n",
        "    pass\n",
        "\n",
        "import tensorflow as tf"
      ],
      "execution_count": 1,
      "outputs": []
    },
    {
      "cell_type": "code",
      "metadata": {
        "id": "6sYyZvLmCYQu"
      },
      "source": [
        "!pip install -q transformers\n",
        "!pip install -qU hazm"
      ],
      "execution_count": 2,
      "outputs": []
    },
    {
      "cell_type": "code",
      "metadata": {
        "id": "3jDe1hQhCY2s",
        "colab": {
          "base_uri": "https://localhost:8080/"
        },
        "outputId": "75dc3f37-ff2e-428c-cccf-95c2f7889d8d"
      },
      "source": [
        "import math\n",
        "import numpy as np\n",
        "import pandas as pd\n",
        "\n",
        "import hazm\n",
        "\n",
        "import transformers \n",
        "from transformers import AutoTokenizer, AutoConfig\n",
        "from transformers import TFAutoModelForTokenClassification\n",
        "\n",
        "import os\n",
        "from IPython.display import display, HTML, clear_output\n",
        "from ipywidgets import widgets, Layout\n",
        "\n",
        "import matplotlib.pyplot as plt\n",
        "\n",
        "print()\n",
        "print('tensorflow', tf.__version__)\n",
        "print('transformers', transformers.__version__)\n",
        "print('numpy', np.__version__)\n",
        "print('pandas', pd.__version__)\n",
        "print()\n",
        "\n",
        "if tf.test.gpu_device_name() != '/device:GPU:0':\n",
        "    print()\n",
        "    print('WARNING: GPU device not found.')\n",
        "else:\n",
        "    print()\n",
        "    print('SUCCESS: Found GPU: {}'.format(tf.test.gpu_device_name()))"
      ],
      "execution_count": 3,
      "outputs": [
        {
          "output_type": "stream",
          "text": [
            "\n",
            "tensorflow 2.3.0\n",
            "transformers 4.0.1\n",
            "numpy 1.18.5\n",
            "pandas 1.1.5\n",
            "\n",
            "\n",
            "WARNING: GPU device not found.\n"
          ],
          "name": "stdout"
        }
      ]
    },
    {
      "cell_type": "markdown",
      "metadata": {
        "id": "QAsnTqSPEaJ9"
      },
      "source": [
        "# Setup Neural Based Clasifier"
      ]
    },
    {
      "cell_type": "code",
      "metadata": {
        "id": "4uMVXKVkGeOZ"
      },
      "source": [
        "normalizer = hazm.Normalizer()\n",
        "\n",
        "\n",
        "def cleanize(text):\n",
        "    \"\"\"A way to normalize and even clean the text\"\"\"\n",
        "    # clean text\n",
        "    # do some fns\n",
        "    return normalizer.normalize(text)\n",
        "\n",
        "def colorize(text, classes, colors):\n",
        "    color = sum(classes.reshape((len(colors),1))*colors)\n",
        "    color = [str(_) for _ in color]\n",
        "    return f'<span style=\"background-color: rgb({color[0]}, {color[1]}, {color[2]})\">{text}</span>'\n",
        "\n",
        "def parsbert_ner_load_model(model_name):\n",
        "    \"\"\"Load the model\"\"\"\n",
        "    try:\n",
        "        config = AutoConfig.from_pretrained(model_name)\n",
        "        tokenizer = AutoTokenizer.from_pretrained(model_name)\n",
        "        model = TFAutoModelForTokenClassification.from_pretrained(model_name)\n",
        "        labels = list(config.label2id.keys())\n",
        "\n",
        "        return model, tokenizer, labels\n",
        "    except:\n",
        "        return [None] * 3\n",
        "\n",
        "def parsbert_ner(texts, utils, visualize=False, mode=None):\n",
        "    model, tokenizer, labels = utils\n",
        "\n",
        "    if not model or not tokenizer or not labels:\n",
        "        return 'Something wrong happened!'\n",
        "    \n",
        "    output_predictions = []\n",
        "    for sequence in texts:\n",
        "        sequence = cleanize(sequence)\n",
        "        tokens = tokenizer.tokenize(tokenizer.decode(tokenizer.encode(sequence)))\n",
        "        inputs = tokenizer.encode(sequence, return_tensors=\"tf\")\n",
        "        outputs = model(inputs)[0]\n",
        "        \n",
        "        if not visualize:\n",
        "            pass\n",
        "        else:\n",
        "            display(HTML(\"<hr>\"))\n",
        "            O=outputs[:,:,14][0]-4\n",
        "\n",
        "            B_DAT=outputs[:,:,0][0]\n",
        "            I_DAT=outputs[:,:,7][0]\n",
        "            B_TIM=outputs[:,:,6][0]\n",
        "            I_TIM=outputs[:,:,13][0]\n",
        "\n",
        "            B_LOC=outputs[:,:,1][0]\n",
        "            I_LOC=outputs[:,:,8][0]\n",
        "            B_ORG=outputs[:,:,1][0]\n",
        "            I_ORG=outputs[:,:,8][0]\n",
        "\n",
        "            location = B_LOC + B_ORG + I_LOC + I_ORG\n",
        "            date_and_time = B_TIM + B_DAT + I_TIM + I_DAT\n",
        "\n",
        "            if mode == \"religous times\":\n",
        "                location *= 0\n",
        "            elif mode == \"clock\":\n",
        "                date_and_time *= 0\n",
        "            else:\n",
        "                location += 5\n",
        "                date_and_time += 3\n",
        "\n",
        "            if visualize > 1:\n",
        "                index=np.arange(len(tokens))\n",
        "                width=0.2\n",
        "\n",
        "                plt.figure(figsize=(15,5))\n",
        "\n",
        "                plt.bar(index, O, width, color=\"black\", label=\"None\")\n",
        "                plt.bar(index + width, date_and_time, width, color=\"blue\", label=\"Date And Time\")\n",
        "                plt.bar(index+2*width, location, width, color=\"green\", label=\"Location\")\n",
        "\n",
        "                plt.xticks(index+width*1.5, tokens)\n",
        "\n",
        "                plt.legend(loc=\"best\")\n",
        "                plt.show()\n",
        "\n",
        "            \n",
        "            colorized = []\n",
        "\n",
        "            for i, token in enumerate(tokens):\n",
        "                if token not in [\"[SEP]\", \"[CLS]\"]:\n",
        "                    classes = [O[i], location[i], date_and_time[i]]\n",
        "                    classes = np.exp(classes)/sum(np.exp(classes)) # softmax of classes\n",
        "\n",
        "                    colors = [(255,255,255), (0, 255, 0), (0, 0, 255)]\n",
        "\n",
        "                    colorized.append(colorize(token, classes, colors))\n",
        "\n",
        "            html = \" \".join(colorized)\n",
        "            html = \"<p style='direction: rtl; font-size: 20px;'>\" + html + \"</p>\"\n",
        "            display(HTML(html))\n",
        "\n",
        "    return output_predictions"
      ],
      "execution_count": 4,
      "outputs": []
    },
    {
      "cell_type": "markdown",
      "metadata": {
        "id": "c5U9hKXXEHNV"
      },
      "source": [
        "# Setup Rule-Based classifier"
      ]
    },
    {
      "cell_type": "code",
      "metadata": {
        "colab": {
          "base_uri": "https://localhost:8080/"
        },
        "id": "YO_tPvQphl-o",
        "outputId": "97deb4f5-265f-4b7e-8353-a9066caef9c8"
      },
      "source": [
        "model_name = 'HooshvareLab/bert-base-parsbert-peymaner-uncased'\n",
        "print(\"Loading model...\")\n",
        "utils = parsbert_ner_load_model(model_name)"
      ],
      "execution_count": 5,
      "outputs": [
        {
          "output_type": "stream",
          "text": [
            "Loading model...\n"
          ],
          "name": "stdout"
        },
        {
          "output_type": "stream",
          "text": [
            "All model checkpoint layers were used when initializing TFBertForTokenClassification.\n",
            "\n",
            "All the layers of TFBertForTokenClassification were initialized from the model checkpoint at HooshvareLab/bert-base-parsbert-peymaner-uncased.\n",
            "If your task is similar to the task the model of the checkpoint was trained on, you can already use TFBertForTokenClassification for predictions without further training.\n"
          ],
          "name": "stderr"
        }
      ]
    },
    {
      "cell_type": "code",
      "metadata": {
        "colab": {
          "base_uri": "https://localhost:8080/",
          "height": 360
        },
        "id": "tMfkbr3HnVY1",
        "tags": [],
        "outputId": "b62363d7-f3e8-49db-849f-4b7a88d0c516"
      },
      "source": [
        "weather = [\n",
        "           \"دمای هوای مسکو در روز جمعه ۹ آبان چند درجه است؟\",\n",
        "           \" آب و هوای فردای تهران ساعت 18:35 چه طور است؟\",\n",
        "           \"فردا ساعت ۶ بعد از ظهر هوای شیراز چگونه است؟\",\n",
        "           \"آب و هوای فردای تهران چطور است؟\"\n",
        "           ]\n",
        "\n",
        "religous_times = [\n",
        "                  \"اذان ظهر مسکو با اذان مغرب چقدر تفاوت دارد؟\",\n",
        "                  \"فاصله ی اذان مغرب تهران و اذان صبح مشهد\",\n",
        "                  \"نیمه شب شرعی تورنتو چه زمانی است؟\",\n",
        "                  \"اذان ظهر به افق ساری چه وقت است؟\",\n",
        "                  \"اذان مغرب فردای قم چه ساعتی است؟\",\n",
        "                  \"اذان ظهر تهران چه موقعی است؟ \"\n",
        "                  ]\n",
        "clock = [\n",
        "         \"اختلاف ساعت تهران و مسکو چند ساعت است؟ \",\n",
        "         \"الان در نیویورک ساعت چند است؟ \",\n",
        "         \"در مونیخ چه زمانی از روز است؟\",\n",
        "         \"ساعت چند است؟ \"\n",
        "         ]\n",
        "\n",
        "date = [\n",
        "        \"تاریخ 05-02-2020 به قمری چه تاریخی است؟\",\n",
        "        \"چند روز تا روز جهانی دیابت مانده است؟\",\n",
        "        \"دوشنبه هفته ی بعد به تاریخی هجری؟\",\n",
        "        \"امروز به میلادی چه روزی است؟\",\n",
        "        \"تاریخ شمسی امروز چیست؟\",\n",
        "        \"مناسبت 27 رجب چیست؟\"\n",
        "        ]\n",
        "\n",
        "print(\"Predicting, please wait...   0-0\")\n",
        "_ = parsbert_ner(weather, utils, visualize=1)\n",
        "_ = parsbert_ner(clock, utils, visualize=1, mode=\"clock\")\n"
      ],
      "execution_count": 6,
      "outputs": [
        {
          "output_type": "stream",
          "text": [
            "Predicting, please wait...   0-0\n"
          ],
          "name": "stdout"
        },
        {
          "output_type": "display_data",
          "data": {
            "text/html": [
              "<hr>"
            ],
            "text/plain": [
              "<IPython.core.display.HTML object>"
            ]
          },
          "metadata": {
            "tags": []
          }
        },
        {
          "output_type": "display_data",
          "data": {
            "text/html": [
              "<p style='direction: rtl; font-size: 20px;'><span style=\"background-color: rgb(253.313270509243, 254.95516620576382, 253.35812121702475)\">دمای</span> <span style=\"background-color: rgb(249.9036830663681, 254.9394654482603, 249.9642173101165)\">هوای</span> <span style=\"background-color: rgb(5.28364012698096e-10, 255.00000000052836, 6.775291663970416e-10)\">مسکو</span> <span style=\"background-color: rgb(254.78325963020325, 254.9324898092891, 254.85078086407157)\">در</span> <span style=\"background-color: rgb(0.00027832538194161316, 0.016046378981400267, 254.98424318582124)\">روز</span> <span style=\"background-color: rgb(3.2181936688857604e-05, 0.002131005020231669, 254.9979042961182)\">جمعه</span> <span style=\"background-color: rgb(6.218216938691512e-05, 0.00120659847041793, 254.9988614466004)\">۹</span> <span style=\"background-color: rgb(0.0005168213215256401, 0.01540831873398929, 254.98510484832195)\">ابان</span> <span style=\"background-color: rgb(254.5199489593506, 254.99720584368333, 254.52273828614125)\">چند</span> <span style=\"background-color: rgb(251.0591858625412, 254.98956955969334, 251.06962603611464)\">درجه</span> <span style=\"background-color: rgb(254.76935237646103, 254.9972317297943, 254.77211967167023)\">است</span> <span style=\"background-color: rgb(254.86123144626617, 254.99276456481311, 254.86846185340255)\">؟</span></p>"
            ],
            "text/plain": [
              "<IPython.core.display.HTML object>"
            ]
          },
          "metadata": {
            "tags": []
          }
        },
        {
          "output_type": "display_data",
          "data": {
            "text/html": [
              "<hr>"
            ],
            "text/plain": [
              "<IPython.core.display.HTML object>"
            ]
          },
          "metadata": {
            "tags": []
          }
        },
        {
          "output_type": "display_data",
          "data": {
            "text/html": [
              "<p style='direction: rtl; font-size: 20px;'><span style=\"background-color: rgb(251.5431734919548, 252.5081494054757, 254.0350413043052)\">اب</span> <span style=\"background-color: rgb(248.8529634475708, 249.9256967101246, 253.92725771293044)\">و</span> <span style=\"background-color: rgb(247.6484128832817, 254.87769548781216, 247.77070422976976)\">هوای</span> <span style=\"background-color: rgb(0.21336199482902884, 0.2765013067983091, 254.9368736310862)\">فردای</span> <span style=\"background-color: rgb(3.325126697421854e-09, 255.0000000033251, 6.114673363998013e-09)\">تهران</span> <span style=\"background-color: rgb(0.00012550292666446694, 0.007899390372756443, 254.99222192702945)\">ساعت</span> <span style=\"background-color: rgb(0.00011073198464828238, 0.002389384175955911, 254.99770926084665)\">۱۸</span> <span style=\"background-color: rgb(0.00010197267798162102, 0.0035750681855972744, 254.99653016433982)\">:</span> <span style=\"background-color: rgb(0.27333536418154836, 1.887359912507236, 253.3859766391106)\">۳۵</span> <span style=\"background-color: rgb(254.9380785226822, 254.96389494041068, 254.97417640755884)\">چه</span> <span style=\"background-color: rgb(254.72942411899567, 254.84961048976402, 254.8798080557026)\">طور</span> <span style=\"background-color: rgb(254.93838250637054, 254.97438230158878, 254.9640025221379)\">است</span> <span style=\"background-color: rgb(254.9116015434265, 254.94178865807044, 254.9698150394397)\">؟</span></p>"
            ],
            "text/plain": [
              "<IPython.core.display.HTML object>"
            ]
          },
          "metadata": {
            "tags": []
          }
        },
        {
          "output_type": "display_data",
          "data": {
            "text/html": [
              "<hr>"
            ],
            "text/plain": [
              "<IPython.core.display.HTML object>"
            ]
          },
          "metadata": {
            "tags": []
          }
        },
        {
          "output_type": "display_data",
          "data": {
            "text/html": [
              "<p style='direction: rtl; font-size: 20px;'><span style=\"background-color: rgb(1.2716260151535153e-05, 0.00016574793729517978, 254.99984552523156)\">فردا</span> <span style=\"background-color: rgb(1.873420085729549e-05, 0.0002554989360348259, 254.99976034806576)\">ساعت</span> <span style=\"background-color: rgb(0.0002917293227255868, 0.0005644114543201795, 254.99971416031485)\">۶</span> <span style=\"background-color: rgb(9.113073389244164e-05, 0.00028958969068071383, 254.99980234622996)\">بعد</span> <span style=\"background-color: rgb(0.0025037690056706197, 0.0033805747978021827, 254.99911435088052)\">از</span> <span style=\"background-color: rgb(0.0008014408115286642, 0.0013587511591595103, 254.99944871339835)\">ظهر</span> <span style=\"background-color: rgb(252.35862493515015, 254.86360370647162, 252.49502398946788)\">هوای</span> <span style=\"background-color: rgb(6.971269630898051e-11, 255.00000000006972, 2.3096361046024035e-10)\">شیراز</span> <span style=\"background-color: rgb(254.74707037210464, 254.99439973878907, 254.75268520121062)\">چگونه</span> <span style=\"background-color: rgb(254.94909793138504, 254.96900831749372, 254.98008545786433)\">است</span> <span style=\"background-color: rgb(254.81523871421814, 254.83348328678403, 254.98176151304506)\">؟</span></p>"
            ],
            "text/plain": [
              "<IPython.core.display.HTML object>"
            ]
          },
          "metadata": {
            "tags": []
          }
        },
        {
          "output_type": "display_data",
          "data": {
            "text/html": [
              "<hr>"
            ],
            "text/plain": [
              "<IPython.core.display.HTML object>"
            ]
          },
          "metadata": {
            "tags": []
          }
        },
        {
          "output_type": "display_data",
          "data": {
            "text/html": [
              "<p style='direction: rtl; font-size: 20px;'><span style=\"background-color: rgb(253.8415789604187, 254.07139708549948, 254.77018108824268)\">اب</span> <span style=\"background-color: rgb(253.7446689605713, 253.91476506687468, 254.82991174561903)\">و</span> <span style=\"background-color: rgb(253.9300838112831, 254.9699804233387, 253.96008809228078)\">هوای</span> <span style=\"background-color: rgb(9.604533724486828, 9.953327102120966, 254.6512110158801)\">فردای</span> <span style=\"background-color: rgb(9.186365665554697e-10, 255.00000000091865, 1.6797104462548673e-09)\">تهران</span> <span style=\"background-color: rgb(254.94753241539001, 254.97987545975775, 254.96766352734994)\">چطور</span> <span style=\"background-color: rgb(254.95976775884628, 254.97277287549878, 254.98699016421597)\">است</span> <span style=\"background-color: rgb(254.9476996064186, 254.95426866303205, 254.99343781149946)\">؟</span></p>"
            ],
            "text/plain": [
              "<IPython.core.display.HTML object>"
            ]
          },
          "metadata": {
            "tags": []
          }
        },
        {
          "output_type": "display_data",
          "data": {
            "text/html": [
              "<hr>"
            ],
            "text/plain": [
              "<IPython.core.display.HTML object>"
            ]
          },
          "metadata": {
            "tags": []
          }
        },
        {
          "output_type": "display_data",
          "data": {
            "text/html": [
              "<p style='direction: rtl; font-size: 20px;'><span style=\"background-color: rgb(254.74006354808807, 254.74834745889893, 254.99171490082517)\">اختلاف</span> <span style=\"background-color: rgb(251.9799068570137, 252.16002366389148, 254.8198747029528)\">ساعت</span> <span style=\"background-color: rgb(3.103680529248365e-07, 255.00000031036805, 6.095624806579103e-06)\">تهران</span> <span style=\"background-color: rgb(253.25312733650208, 253.78515264135785, 254.46798603516072)\">و</span> <span style=\"background-color: rgb(4.054340769360509e-09, 255.00000000405433, 2.0650931605373235e-07)\">مسکو</span> <span style=\"background-color: rgb(254.91231590509415, 254.91335108653402, 254.99896100067417)\">چند</span> <span style=\"background-color: rgb(254.4912225008011, 254.5025970763345, 254.98862109496258)\">ساعت</span> <span style=\"background-color: rgb(254.8211967945099, 254.82257740510704, 254.998608562164)\">است</span> <span style=\"background-color: rgb(254.78637546300888, 254.78697837780942, 254.99940740992315)\">؟</span></p>"
            ],
            "text/plain": [
              "<IPython.core.display.HTML object>"
            ]
          },
          "metadata": {
            "tags": []
          }
        },
        {
          "output_type": "display_data",
          "data": {
            "text/html": [
              "<hr>"
            ],
            "text/plain": [
              "<IPython.core.display.HTML object>"
            ]
          },
          "metadata": {
            "tags": []
          }
        },
        {
          "output_type": "display_data",
          "data": {
            "text/html": [
              "<p style='direction: rtl; font-size: 20px;'><span style=\"background-color: rgb(254.2692992091179, 254.26996881151126, 254.99932506121695)\">الان</span> <span style=\"background-color: rgb(254.87641543149948, 254.8798767419339, 254.99654356593965)\">در</span> <span style=\"background-color: rgb(6.967028520765695e-07, 255.00000069670284, 7.739075510437843e-06)\">نیویورک</span> <span style=\"background-color: rgb(253.79987239837646, 253.86213023928576, 254.93773725349456)\">ساعت</span> <span style=\"background-color: rgb(254.65633124113083, 254.65946840256493, 254.99686528695747)\">چند</span> <span style=\"background-color: rgb(254.79473501443863, 254.7961512095094, 254.99857555143535)\">است</span> <span style=\"background-color: rgb(254.83156263828278, 254.83177100311366, 254.99978868087055)\">؟</span></p>"
            ],
            "text/plain": [
              "<IPython.core.display.HTML object>"
            ]
          },
          "metadata": {
            "tags": []
          }
        },
        {
          "output_type": "display_data",
          "data": {
            "text/html": [
              "<hr>"
            ],
            "text/plain": [
              "<IPython.core.display.HTML object>"
            ]
          },
          "metadata": {
            "tags": []
          }
        },
        {
          "output_type": "display_data",
          "data": {
            "text/html": [
              "<p style='direction: rtl; font-size: 20px;'><span style=\"background-color: rgb(254.91564452648163, 254.91606627659849, 254.99957048203214)\">در</span> <span style=\"background-color: rgb(1.1425639567796964e-06, 254.9999707441951, 2.7267905207128962e-05)\">مونیخ</span> <span style=\"background-color: rgb(254.9275302886963, 254.92768935601987, 254.99983910980518)\">چه</span> <span style=\"background-color: rgb(254.89825665950775, 254.8989698678315, 254.99929050682113)\">زمانی</span> <span style=\"background-color: rgb(254.90119010210037, 254.9027892928143, 254.99840456803213)\">از</span> <span style=\"background-color: rgb(254.5686623454094, 254.592334436893, 254.97633629478514)\">روز</span> <span style=\"background-color: rgb(254.8464274406433, 254.84804419973216, 254.9983917956706)\">است</span> <span style=\"background-color: rgb(254.8872372508049, 254.88745948850664, 254.99978534862748)\">؟</span></p>"
            ],
            "text/plain": [
              "<IPython.core.display.HTML object>"
            ]
          },
          "metadata": {
            "tags": []
          }
        },
        {
          "output_type": "display_data",
          "data": {
            "text/html": [
              "<hr>"
            ],
            "text/plain": [
              "<IPython.core.display.HTML object>"
            ]
          },
          "metadata": {
            "tags": []
          }
        },
        {
          "output_type": "display_data",
          "data": {
            "text/html": [
              "<p style='direction: rtl; font-size: 20px;'><span style=\"background-color: rgb(254.08187806606293, 254.0956089836618, 254.98625946231186)\">ساعت</span> <span style=\"background-color: rgb(254.62506651878357, 254.62767038495713, 254.99738962913398)\">چند</span> <span style=\"background-color: rgb(254.75473076105118, 254.75605702092707, 254.9986534472555)\">است</span> <span style=\"background-color: rgb(254.71279621124268, 254.7132115727436, 254.99957501655445)\">؟</span></p>"
            ],
            "text/plain": [
              "<IPython.core.display.HTML object>"
            ]
          },
          "metadata": {
            "tags": []
          }
        }
      ]
    },
    {
      "cell_type": "markdown",
      "metadata": {
        "id": "fth6hzX5IG1h"
      },
      "source": [
        "# Persian PEYMA NER"
      ]
    },
    {
      "cell_type": "code",
      "metadata": {
        "id": "4j7y9qNKFqpO",
        "colab": {
          "base_uri": "https://localhost:8080/",
          "height": 138,
          "referenced_widgets": [
            "f9376bbf788c495e89a34514005df5d4",
            "824064c367634b8283673cd40b42b172",
            "f0d9718da6fe48dc84c244986a32c0cb",
            "d5e8c89869994a78a3ea8600d773b33a",
            "fe376f750df647d48899fba74c69fb38",
            "9b3c8a69a08543e9a4e794dda8f6ca13",
            "90d69413837d487a9fcf274200941a57",
            "b5e2e9b675f7491399b427875b588a32"
          ]
        },
        "outputId": "38cc1f89-a9cf-458a-ea7d-afc7e480dea3"
      },
      "source": [
        "#@title Live Playground { display-mode: \"form\" }\n",
        "submit_wd = widgets.Button(description='Send', disabled=False, button_style='success', tooltip='Submit')\n",
        "text_wd = widgets.Textarea(placeholder='Please enter you text ...', rows=5, layout=Layout(width='90%'))\n",
        "output_wd = widgets.Output()\n",
        "\n",
        "display(text_wd)\n",
        "display(submit_wd)\n",
        "display(output_wd)\n",
        "\n",
        "def submit_text(sender):\n",
        "    with output_wd:\n",
        "        clear_output(wait=True)\n",
        "        text = text_wd.value\n",
        "\n",
        "        model_name = 'HooshvareLab/bert-base-parsbert-peymaner-uncased'\n",
        "        print(\"Please wait...   0-0\")\n",
        "        output = parsbert_ner([text], utils, visualize=1)\n",
        "\n",
        "\n",
        "submit_wd.on_click(submit_text)\n"
      ],
      "execution_count": 7,
      "outputs": [
        {
          "output_type": "display_data",
          "data": {
            "application/vnd.jupyter.widget-view+json": {
              "model_id": "f9376bbf788c495e89a34514005df5d4",
              "version_minor": 0,
              "version_major": 2
            },
            "text/plain": [
              "Textarea(value='', layout=Layout(width='90%'), placeholder='Please enter you text ...', rows=5)"
            ]
          },
          "metadata": {
            "tags": []
          }
        },
        {
          "output_type": "display_data",
          "data": {
            "application/vnd.jupyter.widget-view+json": {
              "model_id": "d5e8c89869994a78a3ea8600d773b33a",
              "version_minor": 0,
              "version_major": 2
            },
            "text/plain": [
              "Button(button_style='success', description='Send', style=ButtonStyle(), tooltip='Submit')"
            ]
          },
          "metadata": {
            "tags": []
          }
        },
        {
          "output_type": "display_data",
          "data": {
            "application/vnd.jupyter.widget-view+json": {
              "model_id": "90d69413837d487a9fcf274200941a57",
              "version_minor": 0,
              "version_major": 2
            },
            "text/plain": [
              "Output()"
            ]
          },
          "metadata": {
            "tags": []
          }
        }
      ]
    }
  ]
}